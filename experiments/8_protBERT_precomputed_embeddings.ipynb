{
 "cells": [
  {
   "cell_type": "code",
   "execution_count": 4,
   "metadata": {},
   "outputs": [
    {
     "name": "stdout",
     "output_type": "stream",
     "text": [
      "LENGTH OF THE EMBEDDED PROTEINS: 569507\n"
     ]
    }
   ],
   "source": [
    "import torch\n",
    "import torch.nn as nn\n",
    "\n",
    "import numpy as np\n",
    "import pickle\n",
    "import h5py\n",
    "\n",
    "# paper prot BERT\n",
    "# https://www.biorxiv.org/content/10.1101/2020.07.12.199554v3\n",
    "# protein language model embedding already precomputed\n",
    "# https://huggingface.co/Rostlab/prot_t5_xl_bfd\n",
    "# https://ftp.uniprot.org/pub/databases/uniprot/current_release/knowledgebase/embeddings/README\n",
    "# https://ftp.uniprot.org/pub/databases/uniprot/current_release/knowledgebase/embeddings/\n",
    "# https://github.com/agemagician/ProtTrans\n",
    "\n",
    "\n",
    "file = 'per-protein.h5'\n",
    "\n",
    "# Open the h5 file\n",
    "file = h5py.File(file, 'r')\n",
    "\n",
    "\n",
    "print('LENGTH OF THE EMBEDDED PROTEINS:',len(file.keys()))"
   ]
  },
  {
   "cell_type": "code",
   "execution_count": 12,
   "metadata": {},
   "outputs": [
    {
     "data": {
      "text/plain": [
       "array([ 0.006172,  0.04068 ,  0.02666 , ..., -0.00964 , -0.02702 ,\n",
       "        0.009384], dtype=float16)"
      ]
     },
     "execution_count": 12,
     "metadata": {},
     "output_type": "execute_result"
    }
   ],
   "source": [
    "# how do I get the embedding\n",
    "file['A1A4S6'][:]"
   ]
  },
  {
   "cell_type": "code",
   "execution_count": 3,
   "metadata": {},
   "outputs": [
    {
     "data": {
      "text/plain": [
       "569507"
      ]
     },
     "execution_count": 3,
     "metadata": {},
     "output_type": "execute_result"
    }
   ],
   "source": []
  }
 ],
 "metadata": {
  "kernelspec": {
   "display_name": "ml",
   "language": "python",
   "name": "python3"
  },
  "language_info": {
   "codemirror_mode": {
    "name": "ipython",
    "version": 3
   },
   "file_extension": ".py",
   "mimetype": "text/x-python",
   "name": "python",
   "nbconvert_exporter": "python",
   "pygments_lexer": "ipython3",
   "version": "3.10.9"
  },
  "orig_nbformat": 4,
  "vscode": {
   "interpreter": {
    "hash": "f3163cfb8aa3549ad3f5400bc3427ee7a4002d2a0d6d7ead52f641c6a7636395"
   }
  }
 },
 "nbformat": 4,
 "nbformat_minor": 2
}
