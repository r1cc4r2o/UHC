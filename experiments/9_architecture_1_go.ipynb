{
 "cells": [
  {
   "cell_type": "code",
   "execution_count": null,
   "metadata": {},
   "outputs": [],
   "source": [
    "import torch\n",
    "import torch.nn as nn\n",
    "import torch.nn.functional as F\n",
    "import pytorch_lightning as pl\n",
    "\n",
    "\n",
    "\n",
    "class BertLike(pl.LightningModule):\n",
    "    def __init__(self, num_tokens, hidden_size, num_layers, num_heads, dropout_rate):\n",
    "        super(BertLike, self).__init__()\n",
    "        \n",
    "        # tokenizer\n",
    "        self.token_embedding = nn.Embedding(num_tokens, hidden_size)\n",
    "        \n",
    "        # positional embedding\n",
    "        self.position_embedding = nn.Embedding(1000, hidden_size)\n",
    "        \n",
    "        # transformer encoder layers\n",
    "        self.encoder_layers = nn.ModuleList([\n",
    "            nn.TransformerEncoderLayer(hidden_size, num_heads, dim_feedforward=4*hidden_size, dropout=dropout_rate)\n",
    "            for _ in range(num_layers)\n",
    "        ])\n",
    "        \n",
    "        # dropout\n",
    "        self.dropout = nn.Dropout(dropout_rate)\n",
    "        \n",
    "        # get the out tokens\n",
    "        self.fc = nn.Linear(hidden_size, num_tokens)\n",
    "\n",
    "    def forward(self, x):\n",
    "        \n",
    "        # token_emb (batch_size, seq_len, hidden_size)\n",
    "        # get the token embedding\n",
    "        token_emb = self.token_embedding(x) \n",
    "        \n",
    "        # position_emb (1, seq_len, hidden_size)\n",
    "        position_emb = self.position_embedding(torch.arange(x.size(1), device=x.device))[None, :, :] \n",
    "        \n",
    "        # embedding (batch_size, seq_len, hidden_size)\n",
    "        # add position embedding to token embedding\n",
    "        emb = self.dropout(token_emb + position_emb) \n",
    "        \n",
    "        # bert like block\n",
    "        for layer in self.encoder_layers:\n",
    "            emb = layer(emb)\n",
    "            \n",
    "        # logits (batch_size, num_tokens)\n",
    "        # get the out tokens\n",
    "        logits = self.fc(emb[:, -1, :]) \n",
    "        \n",
    "        return logits\n",
    "\n",
    "    def training_step(self, batch, batch_idx):\n",
    "        x, y = batch\n",
    "        logits = self(x)\n",
    "        loss = F.cross_entropy(logits, y)\n",
    "        self.log('train_loss', loss)\n",
    "        return loss\n",
    "\n",
    "    def validation_step(self, batch, batch_idx):\n",
    "        # get the validation data\n",
    "        x, y = batch\n",
    "        \n",
    "        # get the predictions\n",
    "        logits = self(x)\n",
    "        \n",
    "        # loss\n",
    "        loss = F.cross_entropy(logits, y)\n",
    "        \n",
    "        # log metrics\n",
    "        self.log('val_loss', loss, on_step=True, on_epoch=True)\n",
    "        \n",
    "        preds = logits.argmax(dim=-1)\n",
    "        acc = (preds == y).float().mean()\n",
    "        \n",
    "        # log metrics\n",
    "        self.log('val_acc', acc, on_step=True, on_epoch=True)\n",
    "        \n",
    "        return acc\n",
    "\n",
    "    def configure_optimizers(self):\n",
    "        optimizer = torch.optim.Adam(self.parameters(), lr=1e-4)\n",
    "        return optimizer"
   ]
  },
  {
   "cell_type": "code",
   "execution_count": 63,
   "metadata": {},
   "outputs": [
    {
     "name": "stdout",
     "output_type": "stream",
     "text": [
      "tensor(74097.6406)\n"
     ]
    }
   ],
   "source": [
    "import torch\n",
    "import torch.nn as nn\n",
    "import torch.nn.functional as F\n",
    "\n",
    "# This code calculates the cross entropy loss between the logits and the true labels.\n",
    "\n",
    "logits = torch.randn(10, 1000, 21)\n",
    "y = torch.randint(0,21, (10, 1000, 21)).to(torch.float32)\n",
    "\n",
    "\n",
    "loss = F.cross_entropy(logits, y)\n",
    "print(loss)"
   ]
  }
 ],
 "metadata": {
  "kernelspec": {
   "display_name": "Python 3",
   "language": "python",
   "name": "python3"
  },
  "language_info": {
   "codemirror_mode": {
    "name": "ipython",
    "version": 3
   },
   "file_extension": ".py",
   "mimetype": "text/x-python",
   "name": "python",
   "nbconvert_exporter": "python",
   "pygments_lexer": "ipython3",
   "version": "3.9.12"
  },
  "orig_nbformat": 4,
  "vscode": {
   "interpreter": {
    "hash": "3b75c26b910ba516c930507b4337d6cf30fdc3d06c5392aedae0a97adcea4b39"
   }
  }
 },
 "nbformat": 4,
 "nbformat_minor": 2
}
