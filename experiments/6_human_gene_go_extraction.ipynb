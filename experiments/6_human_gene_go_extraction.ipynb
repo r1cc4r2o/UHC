{
 "cells": [
  {
   "cell_type": "code",
   "execution_count": null,
   "metadata": {},
   "outputs": [],
   "source": [
    "# useful tutorial how use GO: https://github.com/mousepixels/sanbomics_scripts/blob/main/GO_in_python.ipynb\n",
    "\n",
    "import numpy as np\n",
    "import pandas as pd\n",
    "import matplotlib.pyplot as plt\n",
    "\n",
    "\n",
    "# extract from the NCBI database the human genes\n",
    "# \"9606\"[Taxonomy ID] AND alive[property] AND genetype protein coding[Properties] "
   ]
  }
 ],
 "metadata": {
  "language_info": {
   "name": "python"
  },
  "orig_nbformat": 4
 },
 "nbformat": 4,
 "nbformat_minor": 2
}
